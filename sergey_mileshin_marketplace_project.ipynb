{
 "cells": [
  {
   "cell_type": "code",
   "execution_count": 17,
   "metadata": {},
   "outputs": [],
   "source": [
    "# импорт библиотек и загрузка датасетов\n",
    "\n",
    "import pandas as pd\n",
    "import numpy as np\n",
    "import matplotlib.pyplot as plt\n",
    "import matplotlib.ticker as ticker\n",
    "from matplotlib import colors as mcolors\n",
    "import seaborn as sns\n",
    "from operator import attrgetter\n",
    "\n",
    "olist_customers_dataset = pd.read_csv('olist_customers_dataset.csv')\n",
    "olist_orders_dataset = pd.read_csv('olist_orders_dataset.csv', parse_dates = [3,4,5,6,7])\n",
    "olist_order_items_dataset = pd.read_csv('olist_order_items_dataset.csv', parse_dates = [4])"
   ]
  },
  {
   "cell_type": "code",
   "execution_count": 18,
   "metadata": {},
   "outputs": [
    {
     "name": "stdout",
     "output_type": "stream",
     "text": [
      "<class 'pandas.core.frame.DataFrame'>\n",
      "RangeIndex: 99441 entries, 0 to 99440\n",
      "Data columns (total 5 columns):\n",
      " #   Column                    Non-Null Count  Dtype \n",
      "---  ------                    --------------  ----- \n",
      " 0   customer_id               99441 non-null  object\n",
      " 1   customer_unique_id        99441 non-null  object\n",
      " 2   customer_zip_code_prefix  99441 non-null  int64 \n",
      " 3   customer_city             99441 non-null  object\n",
      " 4   customer_state            99441 non-null  object\n",
      "dtypes: int64(1), object(4)\n",
      "memory usage: 3.8+ MB\n"
     ]
    }
   ],
   "source": [
    "# информация о датасете с клиентами\n",
    "\n",
    "olist_customers_dataset.info()"
   ]
  },
  {
   "cell_type": "code",
   "execution_count": 19,
   "metadata": {},
   "outputs": [
    {
     "name": "stdout",
     "output_type": "stream",
     "text": [
      "<class 'pandas.core.frame.DataFrame'>\n",
      "RangeIndex: 99441 entries, 0 to 99440\n",
      "Data columns (total 8 columns):\n",
      " #   Column                         Non-Null Count  Dtype         \n",
      "---  ------                         --------------  -----         \n",
      " 0   order_id                       99441 non-null  object        \n",
      " 1   customer_id                    99441 non-null  object        \n",
      " 2   order_status                   99441 non-null  object        \n",
      " 3   order_purchase_timestamp       99441 non-null  datetime64[ns]\n",
      " 4   order_approved_at              99281 non-null  datetime64[ns]\n",
      " 5   order_delivered_carrier_date   97658 non-null  datetime64[ns]\n",
      " 6   order_delivered_customer_date  96476 non-null  datetime64[ns]\n",
      " 7   order_estimated_delivery_date  99441 non-null  datetime64[ns]\n",
      "dtypes: datetime64[ns](5), object(3)\n",
      "memory usage: 6.1+ MB\n"
     ]
    }
   ],
   "source": [
    "# информация о датасете с заказами\n",
    "olist_orders_dataset.info()"
   ]
  },
  {
   "cell_type": "code",
   "execution_count": 20,
   "metadata": {},
   "outputs": [
    {
     "name": "stdout",
     "output_type": "stream",
     "text": [
      "<class 'pandas.core.frame.DataFrame'>\n",
      "RangeIndex: 112650 entries, 0 to 112649\n",
      "Data columns (total 7 columns):\n",
      " #   Column               Non-Null Count   Dtype         \n",
      "---  ------               --------------   -----         \n",
      " 0   order_id             112650 non-null  object        \n",
      " 1   order_item_id        112650 non-null  int64         \n",
      " 2   product_id           112650 non-null  object        \n",
      " 3   seller_id            112650 non-null  object        \n",
      " 4   shipping_limit_date  112650 non-null  datetime64[ns]\n",
      " 5   price                112650 non-null  float64       \n",
      " 6   freight_value        112650 non-null  float64       \n",
      "dtypes: datetime64[ns](1), float64(2), int64(1), object(3)\n",
      "memory usage: 6.0+ MB\n"
     ]
    }
   ],
   "source": [
    "# информация о товарах в заказах\n",
    "olist_order_items_dataset.info()"
   ]
  },
  {
   "cell_type": "markdown",
   "metadata": {},
   "source": [
    "#### Задача 1. Построить матрицу с когортным анализом retention rate по месяцам."
   ]
  },
  {
   "cell_type": "code",
   "execution_count": 21,
   "metadata": {},
   "outputs": [
    {
     "data": {
      "text/plain": [
       "customer_id                 0\n",
       "customer_unique_id          0\n",
       "customer_zip_code_prefix    0\n",
       "customer_city               0\n",
       "customer_state              0\n",
       "dtype: int64"
      ]
     },
     "execution_count": 21,
     "metadata": {},
     "output_type": "execute_result"
    }
   ],
   "source": [
    "# проверка на нулевые значения\n",
    "olist_customers_dataset.isna().sum()"
   ]
  },
  {
   "cell_type": "code",
   "execution_count": 22,
   "metadata": {},
   "outputs": [
    {
     "data": {
      "text/plain": [
       "order_id                            0\n",
       "customer_id                         0\n",
       "order_status                        0\n",
       "order_purchase_timestamp            0\n",
       "order_approved_at                 160\n",
       "order_delivered_carrier_date     1783\n",
       "order_delivered_customer_date    2965\n",
       "order_estimated_delivery_date       0\n",
       "dtype: int64"
      ]
     },
     "execution_count": 22,
     "metadata": {},
     "output_type": "execute_result"
    }
   ],
   "source": [
    "# проверка на нулевые значения\n",
    "olist_orders_dataset.isna().sum()"
   ]
  },
  {
   "cell_type": "code",
   "execution_count": 23,
   "metadata": {},
   "outputs": [
    {
     "data": {
      "text/plain": [
       "order_id               0\n",
       "order_item_id          0\n",
       "product_id             0\n",
       "seller_id              0\n",
       "shipping_limit_date    0\n",
       "price                  0\n",
       "freight_value          0\n",
       "dtype: int64"
      ]
     },
     "execution_count": 23,
     "metadata": {},
     "output_type": "execute_result"
    }
   ],
   "source": [
    "# проверка на нулевые значения\n",
    "olist_order_items_dataset.isna().sum()"
   ]
  },
  {
   "cell_type": "code",
   "execution_count": 24,
   "metadata": {},
   "outputs": [
    {
     "data": {
      "text/html": [
       "<div>\n",
       "<style scoped>\n",
       "    .dataframe tbody tr th:only-of-type {\n",
       "        vertical-align: middle;\n",
       "    }\n",
       "\n",
       "    .dataframe tbody tr th {\n",
       "        vertical-align: top;\n",
       "    }\n",
       "\n",
       "    .dataframe thead th {\n",
       "        text-align: right;\n",
       "    }\n",
       "</style>\n",
       "<table border=\"1\" class=\"dataframe\">\n",
       "  <thead>\n",
       "    <tr style=\"text-align: right;\">\n",
       "      <th>period_number_month</th>\n",
       "      <th>0.0</th>\n",
       "      <th>1.0</th>\n",
       "      <th>2.0</th>\n",
       "      <th>3.0</th>\n",
       "      <th>4.0</th>\n",
       "      <th>5.0</th>\n",
       "      <th>6.0</th>\n",
       "      <th>7.0</th>\n",
       "      <th>8.0</th>\n",
       "      <th>9.0</th>\n",
       "      <th>...</th>\n",
       "      <th>11.0</th>\n",
       "      <th>12.0</th>\n",
       "      <th>13.0</th>\n",
       "      <th>14.0</th>\n",
       "      <th>15.0</th>\n",
       "      <th>16.0</th>\n",
       "      <th>17.0</th>\n",
       "      <th>19.0</th>\n",
       "      <th>20.0</th>\n",
       "      <th>21.0</th>\n",
       "    </tr>\n",
       "    <tr>\n",
       "      <th>cohort</th>\n",
       "      <th></th>\n",
       "      <th></th>\n",
       "      <th></th>\n",
       "      <th></th>\n",
       "      <th></th>\n",
       "      <th></th>\n",
       "      <th></th>\n",
       "      <th></th>\n",
       "      <th></th>\n",
       "      <th></th>\n",
       "      <th></th>\n",
       "      <th></th>\n",
       "      <th></th>\n",
       "      <th></th>\n",
       "      <th></th>\n",
       "      <th></th>\n",
       "      <th></th>\n",
       "      <th></th>\n",
       "      <th></th>\n",
       "      <th></th>\n",
       "      <th></th>\n",
       "    </tr>\n",
       "  </thead>\n",
       "  <tbody>\n",
       "    <tr>\n",
       "      <th>2016-09</th>\n",
       "      <td>1.0</td>\n",
       "      <td>NaN</td>\n",
       "      <td>NaN</td>\n",
       "      <td>NaN</td>\n",
       "      <td>NaN</td>\n",
       "      <td>NaN</td>\n",
       "      <td>NaN</td>\n",
       "      <td>NaN</td>\n",
       "      <td>NaN</td>\n",
       "      <td>NaN</td>\n",
       "      <td>...</td>\n",
       "      <td>NaN</td>\n",
       "      <td>NaN</td>\n",
       "      <td>NaN</td>\n",
       "      <td>NaN</td>\n",
       "      <td>NaN</td>\n",
       "      <td>NaN</td>\n",
       "      <td>NaN</td>\n",
       "      <td>NaN</td>\n",
       "      <td>NaN</td>\n",
       "      <td>NaN</td>\n",
       "    </tr>\n",
       "    <tr>\n",
       "      <th>2016-10</th>\n",
       "      <td>1.0</td>\n",
       "      <td>NaN</td>\n",
       "      <td>NaN</td>\n",
       "      <td>NaN</td>\n",
       "      <td>NaN</td>\n",
       "      <td>NaN</td>\n",
       "      <td>0.003745</td>\n",
       "      <td>NaN</td>\n",
       "      <td>NaN</td>\n",
       "      <td>0.003745</td>\n",
       "      <td>...</td>\n",
       "      <td>0.003745</td>\n",
       "      <td>NaN</td>\n",
       "      <td>0.003745</td>\n",
       "      <td>NaN</td>\n",
       "      <td>0.003745</td>\n",
       "      <td>NaN</td>\n",
       "      <td>0.003745</td>\n",
       "      <td>0.007491</td>\n",
       "      <td>0.003745</td>\n",
       "      <td>0.003745</td>\n",
       "    </tr>\n",
       "    <tr>\n",
       "      <th>2016-12</th>\n",
       "      <td>1.0</td>\n",
       "      <td>NaN</td>\n",
       "      <td>NaN</td>\n",
       "      <td>NaN</td>\n",
       "      <td>NaN</td>\n",
       "      <td>NaN</td>\n",
       "      <td>NaN</td>\n",
       "      <td>NaN</td>\n",
       "      <td>NaN</td>\n",
       "      <td>NaN</td>\n",
       "      <td>...</td>\n",
       "      <td>NaN</td>\n",
       "      <td>NaN</td>\n",
       "      <td>NaN</td>\n",
       "      <td>NaN</td>\n",
       "      <td>NaN</td>\n",
       "      <td>NaN</td>\n",
       "      <td>NaN</td>\n",
       "      <td>NaN</td>\n",
       "      <td>NaN</td>\n",
       "      <td>NaN</td>\n",
       "    </tr>\n",
       "    <tr>\n",
       "      <th>2017-01</th>\n",
       "      <td>1.0</td>\n",
       "      <td>0.002928</td>\n",
       "      <td>NaN</td>\n",
       "      <td>0.005857</td>\n",
       "      <td>0.001464</td>\n",
       "      <td>0.001464</td>\n",
       "      <td>0.002928</td>\n",
       "      <td>0.002928</td>\n",
       "      <td>NaN</td>\n",
       "      <td>NaN</td>\n",
       "      <td>...</td>\n",
       "      <td>0.005857</td>\n",
       "      <td>0.004392</td>\n",
       "      <td>0.002928</td>\n",
       "      <td>NaN</td>\n",
       "      <td>0.002928</td>\n",
       "      <td>0.002928</td>\n",
       "      <td>0.002928</td>\n",
       "      <td>0.001464</td>\n",
       "      <td>NaN</td>\n",
       "      <td>NaN</td>\n",
       "    </tr>\n",
       "    <tr>\n",
       "      <th>2017-02</th>\n",
       "      <td>1.0</td>\n",
       "      <td>0.001241</td>\n",
       "      <td>0.001861</td>\n",
       "      <td>0.003722</td>\n",
       "      <td>0.002481</td>\n",
       "      <td>0.001241</td>\n",
       "      <td>0.002481</td>\n",
       "      <td>0.000620</td>\n",
       "      <td>0.00062</td>\n",
       "      <td>0.002481</td>\n",
       "      <td>...</td>\n",
       "      <td>0.003722</td>\n",
       "      <td>0.000620</td>\n",
       "      <td>0.001861</td>\n",
       "      <td>0.001241</td>\n",
       "      <td>0.000620</td>\n",
       "      <td>0.000620</td>\n",
       "      <td>0.001861</td>\n",
       "      <td>NaN</td>\n",
       "      <td>NaN</td>\n",
       "      <td>NaN</td>\n",
       "    </tr>\n",
       "  </tbody>\n",
       "</table>\n",
       "<p>5 rows × 21 columns</p>\n",
       "</div>"
      ],
      "text/plain": [
       "period_number_month  0.0       1.0       2.0       3.0       4.0       5.0   \\\n",
       "cohort                                                                        \n",
       "2016-09               1.0       NaN       NaN       NaN       NaN       NaN   \n",
       "2016-10               1.0       NaN       NaN       NaN       NaN       NaN   \n",
       "2016-12               1.0       NaN       NaN       NaN       NaN       NaN   \n",
       "2017-01               1.0  0.002928       NaN  0.005857  0.001464  0.001464   \n",
       "2017-02               1.0  0.001241  0.001861  0.003722  0.002481  0.001241   \n",
       "\n",
       "period_number_month      6.0       7.0      8.0       9.0   ...      11.0  \\\n",
       "cohort                                                      ...             \n",
       "2016-09                   NaN       NaN      NaN       NaN  ...       NaN   \n",
       "2016-10              0.003745       NaN      NaN  0.003745  ...  0.003745   \n",
       "2016-12                   NaN       NaN      NaN       NaN  ...       NaN   \n",
       "2017-01              0.002928  0.002928      NaN       NaN  ...  0.005857   \n",
       "2017-02              0.002481  0.000620  0.00062  0.002481  ...  0.003722   \n",
       "\n",
       "period_number_month      12.0      13.0      14.0      15.0      16.0  \\\n",
       "cohort                                                                  \n",
       "2016-09                   NaN       NaN       NaN       NaN       NaN   \n",
       "2016-10                   NaN  0.003745       NaN  0.003745       NaN   \n",
       "2016-12                   NaN       NaN       NaN       NaN       NaN   \n",
       "2017-01              0.004392  0.002928       NaN  0.002928  0.002928   \n",
       "2017-02              0.000620  0.001861  0.001241  0.000620  0.000620   \n",
       "\n",
       "period_number_month      17.0      19.0      20.0      21.0  \n",
       "cohort                                                       \n",
       "2016-09                   NaN       NaN       NaN       NaN  \n",
       "2016-10              0.003745  0.007491  0.003745  0.003745  \n",
       "2016-12                   NaN       NaN       NaN       NaN  \n",
       "2017-01              0.002928  0.001464       NaN       NaN  \n",
       "2017-02              0.001861       NaN       NaN       NaN  \n",
       "\n",
       "[5 rows x 21 columns]"
      ]
     },
     "execution_count": 24,
     "metadata": {},
     "output_type": "execute_result"
    }
   ],
   "source": [
    "# построение матрицы retention rate по данным заказов со статусом \"размещен\" (\"approved\"), \n",
    "# так как заказы со статусом \"доставлен\" (\"delivered\") сужают временной интервал\n",
    "\n",
    "merged = olist_orders_dataset.merge(olist_customers_dataset, how = 'inner', on = 'customer_id')\n",
    "merged = merged.dropna()\n",
    "\n",
    "merged['order_period'] = merged['order_approved_at'].dt.to_period('M')\n",
    "merged['order_period_day'] = merged['order_approved_at'].dt.to_period('D')\n",
    "\n",
    "merged['cohort'] = merged.groupby('customer_unique_id')['order_approved_at'].transform('min').dt.to_period('M')\n",
    "merged['cohort_day'] = merged.groupby('customer_unique_id')['order_approved_at'].transform('min').dt.to_period('D')\n",
    "\n",
    "merged['period_number_month'] = np.floor((merged.order_period_day - merged.cohort_day).apply(attrgetter('n')) / 30)\n",
    "\n",
    "df_cohort = merged.groupby(['cohort', 'period_number_month']).agg(n_customers=('customer_unique_id', 'nunique')).reset_index()\n",
    "\n",
    "cohort_pivot = df_cohort.pivot_table(index='cohort', columns='period_number_month', values='n_customers')\n",
    "\n",
    "cohort_size = cohort_pivot.iloc[:, 0]\n",
    "retention_matrix = cohort_pivot.divide(cohort_size, axis=0)\n",
    "\n",
    "retention_matrix.head()"
   ]
  },
  {
   "cell_type": "code",
   "execution_count": 25,
   "metadata": {},
   "outputs": [
    {
     "data": {
      "image/png": "[encoded data removed]",
      "text/plain": [
       "<Figure size 1600x1200 with 3 Axes>"
      ]
     },
     "metadata": {},
     "output_type": "display_data"
    }
   ],
   "source": [
    "# Строим тепловую карту retention rate\n",
    "with sns.axes_style(\"white\"):\n",
    "    fig, ax = plt.subplots(1, 2, figsize=(16, 12), sharey=True, gridspec_kw={'width_ratios': [1, 11]})\n",
    "\n",
    "    # Тепловая карта для retention\n",
    "    sns.heatmap(retention_matrix.iloc[:, 1:],\n",
    "                mask=retention_matrix.iloc[:, 1:].isnull(),\n",
    "                annot=True,\n",
    "                fmt='.1%',\n",
    "                cmap='Spectral',\n",
    "                ax=ax[1])\n",
    "    ax[1].set_title('Коэффициенты удержания по периодам', fontsize=16)\n",
    "    ax[1].set(xlabel='№ периода', ylabel='Когорта')\n",
    "    plt.show()"
   ]
  },
  {
   "cell_type": "code",
   "execution_count": 26,
   "metadata": {},
   "outputs": [
    {
     "name": "stdout",
     "output_type": "stream",
     "text": [
      "Медианный retention rate первого месяца: 0.0035\n",
      "Когорта с самым высоким retention rate на 3-й месяц: 2017-01\n"
     ]
    }
   ],
   "source": [
    "# Ответы на Задание 1:\n",
    "\n",
    "print(f'Медианный retention rate первого месяца: {round(retention_matrix[1].median(),4)}')\n",
    "print(f'Когорта с самым высоким retention rate на 3-й месяц: {retention_matrix[3].idxmax()}')"
   ]
  },
  {
   "cell_type": "code",
   "execution_count": 28,
   "metadata": {},
   "outputs": [
    {
     "name": "stdout",
     "output_type": "stream",
     "text": [
      "Максимальный retention rate всех когорт за все время: period_number_month\n",
      "1.0     0.0066\n",
      "2.0     0.0049\n",
      "3.0     0.0059\n",
      "4.0     0.0039\n",
      "5.0     0.0053\n",
      "6.0     0.0037\n",
      "7.0     0.0045\n",
      "8.0     0.0035\n",
      "9.0     0.0037\n",
      "10.0    0.0059\n",
      "11.0    0.0059\n",
      "12.0    0.0044\n",
      "13.0    0.0037\n",
      "14.0    0.0024\n",
      "15.0    0.0037\n",
      "16.0    0.0029\n",
      "17.0    0.0037\n",
      "19.0    0.0075\n",
      "20.0    0.0037\n",
      "21.0    0.0037\n",
      "dtype: float64\n",
      "Средний retention rate всех когорт за все время: 0.0025\n"
     ]
    }
   ],
   "source": [
    "# проверка retention rate 1 месяца на адекватность\n",
    "# максимальный retention rate по всем когортам за все периоды\n",
    "print(f'Максимальный retention rate всех когорт за все время: {round(retention_matrix.iloc[:, 1:].max(), 4)}')\n",
    "# сердний retention rate по всем когортам за все периоды\n",
    "print(f'Средний retention rate всех когорт за все время: {round(retention_matrix.iloc[:, 1:].mean().mean(), 4)}')\n",
    "# Максимальный retention rate свидетельствует о низком желании вернуться в продукт"
   ]
  },
  {
   "cell_type": "markdown",
   "metadata": {},
   "source": [
    "<div class=\"alert alert-block alert-info\">Выводы по Задаче 1:\n",
    "\n",
    "В продукт после первого использования возвращается менее 1% пользователей. Для интернет-магазина\n",
    "это слишком низкий показатель."
   ]
  },
  {
   "cell_type": "markdown",
   "metadata": {},
   "source": [
    "#### Задача 2. Определить, существует ли product/market fit у маркетплейса, сформулировать гпотезы его отсутствия, предложить фокусные точки для преодоления проблем."
   ]
  },
  {
   "cell_type": "code",
   "execution_count": null,
   "metadata": {},
   "outputs": [],
   "source": [
    "# Линейный график для определения наличия product/market fit построен по медианным retention rate каждого периода\n",
    "\n",
    "pmf = retention_matrix.median()\n",
    "pmf = pmf.fillna(0)\n",
    "\n",
    "plt.figure(figsize=(10, 5))\n",
    "plt.plot(pmf, marker='o', linestyle='-', color='b')\n",
    "plt.title('Динамика медианных retention rate по всем когортам')\n",
    "plt.xlabel('Период (месяц)')\n",
    "plt.ylabel('Retention rate')\n",
    "plt.xticks(pmf.index)\n",
    "plt.grid()\n",
    "plt.show()"
   ]
  },
  {
   "cell_type": "markdown",
   "metadata": {},
   "source": [
    "Retention rate продукта вышел на плато, но значение стабильно ниже 1%. Можно было бы говорить о наличии product/market fit, потому что retention rate всё ещё выше нуля, но для интернет-магазина приемлемым уровнем считается диапазон 20-30%, значит - более верный вывод: PMF отсутствует."
   ]
  },
  {
   "cell_type": "markdown",
   "metadata": {},
   "source": [
    "Возможные причины непопулярности продукта: <br>\n",
    "1) Слабое географическое покрытие доставки <br>\n",
    "2) Недоступность товаров для заказа и отмена подтвержденных заказов<br>\n",
    "3) Неудобство платежей <br>\n",
    "4) Опоздание доставок <br>\n",
    "5) Долгая доставка"
   ]
  },
  {
   "cell_type": "code",
   "execution_count": null,
   "metadata": {},
   "outputs": [],
   "source": [
    "# Гипотеза 1: Расчет географического покрытия доставок продукта ('nos'). В Бразилии 26 штатов и 1 город федерального значения, \n",
    "# всего 27 федеральных единиц.\n",
    "\n",
    "nos = olist_customers_dataset['customer_state'].nunique()\n",
    "print(f'Доставка возможна в {nos} федеральных единиц.')"
   ]
  },
  {
   "cell_type": "markdown",
   "metadata": {},
   "source": [
    "Вывод по гипотезе 1: Доставка осуществляется во все федеральные единицы Бразилии. Гипотеза 1 отвергается."
   ]
  },
  {
   "cell_type": "code",
   "execution_count": null,
   "metadata": {},
   "outputs": [],
   "source": [
    "# Гипотеза 2: Расчет количества ('ocug') и доли ('souo') заказов не доставленных по причине недоступности товаров\n",
    "# 'ao' - общее количество заказов\n",
    "\n",
    "ao = olist_orders_dataset['order_id'].nunique()\n",
    "ocug = olist_orders_dataset.query('order_status == \"unavailable\"').shape[0]\n",
    "souo = round(ocug / ao * 100, 2)\n",
    "print(f'Всего сделано {ao} уникальных заказов.')\n",
    "print(f'Отмененных по причине недоступности товаров: {ocug} заказов.')\n",
    "print(f'Доля отмененных заказов: {souo}%')\n"
   ]
  },
  {
   "cell_type": "markdown",
   "metadata": {},
   "source": [
    "Вывод по гипотезе 2: содной стороны, 609 отмененных из-за недоступности товаров заказов - это много, клиенты могут выразить протест уходом из продукта. С другой стороны, их доля менее 1%. Гипотеза 2 может быть рассмотрена с учетом веса остальных гипотез."
   ]
  },
  {
   "cell_type": "code",
   "execution_count": null,
   "metadata": {},
   "outputs": [],
   "source": [
    "# Гипотеза 3: Определение времени на оплату размещенного заказа. Детальные результаты представлены в минутах.\n",
    "\n",
    "olist_orders_dataset['approval_length_minutes'] = (\n",
    "    olist_orders_dataset.order_approved_at - olist_orders_dataset.order_purchase_timestamp\n",
    ").dt.total_seconds()/60\n",
    "\n",
    "sorted_ood = olist_orders_dataset['approval_length_minutes'].sort_values()\n",
    "sorted_ood.describe()"
   ]
  },
  {
   "cell_type": "code",
   "execution_count": null,
   "metadata": {},
   "outputs": [],
   "source": [
    "print(f'Отсутствуют данные об оплате заказа в {sorted_ood.isna().sum()} случаях.')\n",
    "print(f'Медианное время оплаты заказа {sorted_ood.median()} минут.')\n",
    "print(f'Не менее 25% заказов имеют время оплаты более {round(874/60, 1)} часов.')"
   ]
  },
  {
   "cell_type": "markdown",
   "metadata": {},
   "source": [
    "Вывод по гипотезе 3: как правило, на оплату интернет заказа не требуется более 10 минут, даже если это первый заказ, связанный с сохранением данных карты и подтверждением ее валидности. В продукте медианное время оплаты - больше 20 минут, а не менее четверти всех заказов имеют время оплаты более 14 часов. Это может свидетельствовать о неудобной или ненадежной системе оплаты и быть одной из наиболее вероятных причин непопулярности продукта."
   ]
  },
  {
   "cell_type": "code",
   "execution_count": null,
   "metadata": {},
   "outputs": [],
   "source": [
    "# Гипотеза 4: Определение количества заказов, доставленных позже прогнозной даты ('dd') и их доли ('dds')\n",
    "# 'ao' - общее количество заказов\n",
    "\n",
    "dd = olist_orders_dataset.query('order_estimated_delivery_date < order_delivered_customer_date').shape[0]\n",
    "dds = round(dd / ao * 100, 2)\n",
    "print(f'Количество заказов, доставленных позже обещанной даты: {dd}.')\n",
    "print(f'Доля таких заказов: {dds}%.')"
   ]
  },
  {
   "cell_type": "code",
   "execution_count": null,
   "metadata": {},
   "outputs": [],
   "source": [
    "# Гипотеза 5: Определение общего времени доставки в деталях. Детальные результаты представлены в днях.\n",
    "\n",
    "olist_orders_dataset['delivery_time'] = (\n",
    "olist_orders_dataset.order_delivered_customer_date - olist_orders_dataset.order_purchase_timestamp\n",
    ").dt.total_seconds()/86400\n",
    "olist_orders_dataset['delivery_time'].describe()"
   ]
  },
  {
   "cell_type": "code",
   "execution_count": null,
   "metadata": {},
   "outputs": [],
   "source": [
    "# Объединение датасетов по клиентам и заказам для анализа времени доставки и количества заказов по федеральным единицам. \n",
    "# Финальный датасет отсортирован по среднему времени доставки в днях.\n",
    "# Добавлены колонки с процентыми весами времени доставки и количества заказов для каждой федеральной единицы.\n",
    "\n",
    "ocd_ood = olist_customers_dataset.merge(olist_orders_dataset, on = 'customer_id')\n",
    "\n",
    "ocd_ood = ocd_ood.rename(columns = {'order_id' : 'quantity_of_orders'})\n",
    "\n",
    "ocd_ood_delivery = ocd_ood.groupby('customer_state') \\\n",
    ".agg({'delivery_time': 'mean','quantity_of_orders':'count'}) \\\n",
    ".reset_index() \\\n",
    ".sort_values('delivery_time', ascending = False)\n",
    "\n",
    "ocd_ood_delivery = ocd_ood_delivery.rename(columns = {'delivery_time':'mean_delivery_time'})\n",
    "\n",
    "ocd_ood_delivery['dt_percent'] = ((ocd_ood_delivery.mean_delivery_time / ocd_ood_delivery.mean_delivery_time.sum() )*100).round(2)\n",
    "ocd_ood_delivery['qo_percent'] = ((ocd_ood_delivery.quantity_of_orders / ocd_ood_delivery.quantity_of_orders.sum() )*100).round(2)\n",
    "\n",
    "ocd_ood_delivery = ocd_ood_delivery.rename(columns = {'dt_percent':'mdt_percent'})\n",
    "\n",
    "ocd_ood_delivery\n"
   ]
  },
  {
   "cell_type": "code",
   "execution_count": null,
   "metadata": {},
   "outputs": [],
   "source": [
    "# Построение диаграммы для визуализации зависимости времени доставки и количества заказов от федеральной единицы.\n",
    "\n",
    "ocd_ood_delivery_diag = ocd_ood_delivery[['customer_state', 'mdt_percent', 'qo_percent']].set_index('customer_state')\n",
    "\n",
    "ocd_ood_delivery_diag.plot.bar()"
   ]
  },
  {
   "cell_type": "markdown",
   "metadata": {},
   "source": [
    "Выводы для гипотез 4 и 5: <br>\n",
    "\n",
    "Интернет-магазином пользуются, в первую очередь, для удобства. Кроме широты ассортимента, качества и цен товаров, время доставки и точное его соблюдение - один из самых важных факторов.  Доля заказов с превышением времени доставки против прогнозного достигает почти 8% и может быть очень вероятной причиной отказа от дальнейших покупок. Кроме того, по известному маркетинговому закону, негативные оценки распространяются среди пользователей лучше позитивных (\"сарафанное радио\"), это приводит к низкому числу новых клиентов. <br>\n",
    "\n",
    "Абсолютное время доставки сильно варьируется в зависимости от штата, но даже сейчас видно, что с ускорением доставки количество заказов возрастает. У нас нет подтверждения в датасете, но SP (Sao Paolo) - самый населенный город-штат в Бразилии и, вероятно, штаб-квартира исследуемого продукта и можно не брать его в расчет, но картина в целом не изменится."
   ]
  },
  {
   "cell_type": "markdown",
   "metadata": {},
   "source": [
    "<div class=\"alert alert-block alert-info\">Выводы по задаче 2: <br>\n",
    "Product/market fit отсутствует, пользователи почти не возвращаются в продукт о чем свидетельствует крайне низкий retention rate. Возможные  причины: сложность оплаты, недоступность товаров, долгая доставка, нарушение прогнозных сроков доставки. Рекомендация продакт-менеджеру: после анализа метрик сконцентрироваться на исправлении недочетов и повышении retention rate."
   ]
  },
  {
   "cell_type": "markdown",
   "metadata": {},
   "source": [
    "#### Задача 3. Определить 5 основных метрик для изменения, чтобы максимизировать прибыль компании. "
   ]
  },
  {
   "cell_type": "markdown",
   "metadata": {},
   "source": [
    "Данных о расходах нет, поэтому ниже предлагаются именно такие метрики. :<br>\n",
    "    1) Рост объёма продаж маркетплейса - Revenue (Выручка в месяц).<br>\n",
    "    2) Объем аудитории, которой продукт доставляет ценность - MAU (Количество активных пользователей в месяц).<br>\n",
    "    3) Заинтересованность новых клиентов в продукте - Количество новых клиентов ежемесячно (NMU).<br>\n",
    "    4) Вовлеченность клиента в продолжение использования продукта - Retention rate (Коэффициент удержания).<br>\n",
    "    5) Денежное выражение вовлеченности клиента - ARPU (Среднемесячный доход на клиента)."
   ]
  },
  {
   "cell_type": "code",
   "execution_count": null,
   "metadata": {},
   "outputs": [],
   "source": [
    "# Объединение всех датасетов\n",
    "full_df = olist_customers_dataset.merge(olist_orders_dataset, on = 'customer_id') \\\n",
    ".merge(olist_order_items_dataset, on = 'order_id')\n",
    "\n",
    "full_df.info()"
   ]
  },
  {
   "cell_type": "code",
   "execution_count": null,
   "metadata": {},
   "outputs": [],
   "source": [
    "# Расчет ежемесячного GMV:\n",
    "# Добавление столбца 'order_purchase_month' для дальнейшей группировки\n",
    "\n",
    "full_df['order_purchase_month'] = full_df['order_purchase_timestamp'].dt.to_period('M').astype(str)\n",
    "\n",
    "# Группировка по месяцам и суммирование покупок ('price')\n",
    "\n",
    "gmv = full_df.groupby('order_purchase_month').agg(gmv = ('price', 'sum')).reset_index()\n",
    "\n",
    "# Визуализация GMV \n",
    "\n",
    "plt.figure(figsize=(10,5)) \n",
    "sns.lineplot(data=gmv, x = 'order_purchase_month', y='gmv')\n",
    "plt.title('GMV по месяцам')\n",
    "plt.xlabel('Месяц покупки')\n",
    "plt.ylabel('GMV (выручка, млн)')\n",
    "plt.xticks(rotation=90)\n",
    "plt.grid()\n",
    "plt.show()"
   ]
  },
  {
   "cell_type": "markdown",
   "metadata": {},
   "source": [
    "Вывод по GMV: после пикового значения в ноябре 2017 выручка больше не росла."
   ]
  },
  {
   "cell_type": "code",
   "execution_count": null,
   "metadata": {},
   "outputs": [],
   "source": [
    "# Расчет MAU с визуализацией\n",
    "\n",
    "mau = full_df.groupby('order_purchase_month')['customer_unique_id'].nunique().reset_index()\n",
    "mau = mau.rename(columns = {'customer_unique_id':'mau'})\n",
    "\n",
    "plt.figure(figsize=(10,5)) \n",
    "sns.lineplot(data=mau, x = 'order_purchase_month', y='mau')\n",
    "plt.title('MAU по месяцам')\n",
    "plt.xlabel('Месяц покупки')\n",
    "plt.ylabel('MAU (количество)')\n",
    "plt.xticks(rotation=90)\n",
    "plt.grid()\n",
    "plt.show()"
   ]
  },
  {
   "cell_type": "markdown",
   "metadata": {},
   "source": [
    "Вывод по MAU: после пикового значения в ноябре 2017 ежемесячное количество пользователей больше не росло."
   ]
  },
  {
   "cell_type": "code",
   "execution_count": null,
   "metadata": {},
   "outputs": [],
   "source": [
    "# Расчет ежемесячного количества новых пользователей ('nmu') с визуализацией\n",
    "\n",
    "full_df['first_purchase_month'] = full_df.groupby('customer_unique_id')['order_purchase_timestamp'].transform('min') \\\n",
    ".dt.to_period('M') \\\n",
    ".astype(str)\n",
    "\n",
    "nmu = full_df.groupby('first_purchase_month')['customer_unique_id'].nunique().reset_index()\n",
    "nmu = nmu.rename(columns = {'customer_unique_id':'nmu'})\n",
    "\n",
    "plt.figure(figsize=(10,5)) \n",
    "sns.lineplot(data = nmu, x = 'first_purchase_month', y='nmu')\n",
    "plt.title('NMU по месяцам')\n",
    "plt.xlabel('Месяц первой покупки')\n",
    "plt.ylabel('NMU (количество)')\n",
    "plt.xticks(rotation=90)\n",
    "plt.grid()\n",
    "plt.show()"
   ]
  },
  {
   "cell_type": "code",
   "execution_count": null,
   "metadata": {},
   "outputs": [],
   "source": [
    "# Вычисление разницы между MAU и NMU, чтобы исключить идентичность данных.\n",
    "mau_nmu = mau['mau'] - nmu['nmu'] \n",
    "mau_nmu"
   ]
  },
  {
   "cell_type": "markdown",
   "metadata": {},
   "source": [
    "Вывод по NMU: после пикового значения в ноябре 2017 ежемесячное количество новых пользователей больше не росло. Динамика разницы между MAU и NMU положительная, количество возвращающихся пользователей возрастает, хотя таких пользователей очень мало (низкий retention rate)."
   ]
  },
  {
   "cell_type": "markdown",
   "metadata": {},
   "source": [
    "<div class=\"alert alert-block alert-warning\">Диаграмма медианного Retention rate (метрики 4) и выводы по метрике приведены в задаче 2."
   ]
  },
  {
   "cell_type": "code",
   "execution_count": null,
   "metadata": {},
   "outputs": [],
   "source": [
    "# Расчет ARPU c визуализацией\n",
    "\n",
    "arpu = full_df.groupby(['order_purchase_month', 'customer_unique_id']).agg(order_sum = ('price', 'sum')).reset_index()\n",
    "arpu = arpu.groupby('order_purchase_month').agg(arpu = ('order_sum', 'mean')).reset_index()\n",
    "\n",
    "plt.figure(figsize=(10,5)) \n",
    "sns.lineplot(data=arpu, x = 'order_purchase_month', y='arpu')\n",
    "plt.title('ARPU по месяцам')\n",
    "plt.xlabel('Месяц покупки')\n",
    "plt.ylabel('ARPU')\n",
    "plt.xticks(rotation=90)\n",
    "plt.grid()\n",
    "plt.show()"
   ]
  },
  {
   "cell_type": "markdown",
   "metadata": {},
   "source": [
    "Вывод по ARPU: средний чек на пользователя имеет отрицательный тренд."
   ]
  },
  {
   "cell_type": "markdown",
   "metadata": {},
   "source": [
    "<div class=\"alert alert-block alert-info\">Выводы по зданию 4: <br>\n",
    "Все метрики показывают очень похожую динамику, если изучать только графики, метрики можно спутать. После ноября 2017 года рост всех метрик остановился. Динамика ARPU отрицательная (это может быть связано с понижением цен - первым инструментом, к которому прибегают в торговле для удержания и возвращения клиентов). Отсутствуют данные о расходах, невозможно посчитать прибыльность продукта, LTV и сходимость unit-экономики. "
   ]
  },
  {
   "cell_type": "markdown",
   "metadata": {},
   "source": [
    "Задача 4. Выбрать одну из 3 основных гипотез с помощью фреймворка ICE.\n",
    "\n",
    "Продуктовая команда выставила Ease и Confidence, нужно расчитать Impact для каждой гипоотезы:<br>\n",
    "\n",
    "Если исправить баг в системе процессинга заказов, то клиентам не придётся сталкиваться с проблемой отмены заказа, вследствие чего количество доставленных заказов увеличится.Считаем, что мы таким образом избавимся от всех отмен. Confidence - 8, Ease - 6.\t\n",
    "\t\t\t\t\t\t\t\t\t\t\t\t\n",
    "Если сократить время до отгрузки заказа, то клиенты перестанут получать свой заказ с запаздыванием, вследствие чего количество заказов увеличится за счёт повторных заказов. Confidence - 10, Ease - 4.\t\t\n",
    "\n",
    "Если создать новый способ оплаты, который будет конвертировать клиентов в повторный заказ, то клиенты не будут испытывать трудности при оформлении заказа, вследствие чего количество заказов увеличится за счёт повторных заказов. Confidence - 5, Ease - 9.\n",
    "\n",
    "Для расчёта Impact возьмем данные с июня 2017 года и будем считать, что конверсия в повторный заказ равна величине медианного retention 1-го месяца.\n",
    "\n",
    "Для перевода метрики в Impact воспользуйтесь следующей шкалой:\n",
    "\n",
    "Impact и значение метрики: 1 (0-50), 2 (51-150), 3 (151-350), 4 (351-750), 5 (751-1550), 6 (1551-3150), 7 (3151-6350), 8 (6351-12750), 9 (12751-25550), 10 (25551-51150)."
   ]
  },
  {
   "cell_type": "code",
   "execution_count": null,
   "metadata": {},
   "outputs": [],
   "source": [
    "# Расчет Impact для трех гипотез по данным с '2017-06-01'\n",
    "# Единица - количество вновь размещенных заказов\n",
    "# 'nocr' - конверсия в повторный заказ\n",
    "# 'h1i' - impact первой гипотезы, h1c' - confidence первой гипотезы, 'h1e' - ease первой гипотезы. Далее - по аналогии.\n",
    "\n",
    "impact_df = full_df.query('order_purchase_timestamp >= \"2017-06-01 00:00:00\"') # датафрейм для ICE, отфильтрованный по дате\n",
    "\n",
    "\n",
    "nocr = 0.0035\n",
    "\n",
    "h1c = 8\n",
    "h1e = 6\n",
    "\n",
    "h2c = 10\n",
    "h2e = 4\n",
    "\n",
    "h3c = 5\n",
    "h3e = 9\n",
    "\n",
    "# функция для перевода данных в значение шкалы Impact\n",
    "def impact_score(x):\n",
    "    if x <=50:\n",
    "        score = 1;\n",
    "    elif x <=150:\n",
    "        score = 2;\n",
    "    elif x <=350:\n",
    "        score = 3;\n",
    "    elif x <=750:\n",
    "        score = 4;\n",
    "    elif x <=1550:\n",
    "        score = 5;\n",
    "    elif x <=3150:\n",
    "        score = 6;\n",
    "    elif x <=6350:\n",
    "        score = 7;\n",
    "    elif x <=12750:\n",
    "        score = 8;        \n",
    "    elif x <=25550:\n",
    "        score = 9;\n",
    "    else:\n",
    "        score = 10\n",
    "    \n",
    "    return(score)\n"
   ]
  },
  {
   "cell_type": "code",
   "execution_count": null,
   "metadata": {},
   "outputs": [],
   "source": [
    "# Гипотеза 1: все отмененные заказы ('unavailable' и 'canceled') будут выполнены \n",
    "# 'quco' - общее количество отмененных заказов, которое станет новыми заказами\n",
    "# Конверсия не применяется, так как все отмененные заказы становятся действительными\n",
    "\n",
    "quco = impact_df.query('order_status in [\"unavailable\", \"canceled\"]')['order_id'].nunique()\n",
    "h1i = impact_score(quco)\n",
    "h1_ice = h1i * h1c * h1e\n",
    "print(f'ICE для первой гипотезы: {h1_ice}')"
   ]
  },
  {
   "cell_type": "code",
   "execution_count": null,
   "metadata": {},
   "outputs": [],
   "source": [
    "# Гипотеза 2: часть заказов, поступивших с задержкой (позже обещанной даты), конвертировались в новые заказы\n",
    "# после устранения задержек \n",
    "# 'ldo' - заказы с опозданием, доставленные после прогнозной даты\n",
    "# Число повторных заказов 'ldo * nocr'\n",
    "\n",
    "ldo = impact_df.query('order_delivered_customer_date > order_estimated_delivery_date')['order_id'].nunique()\n",
    "ldo_cr = ldo * nocr\n",
    "h2i = impact_score(ldo_cr)\n",
    "h2_ice = h2i * h2c * h2e\n",
    "print(f'ICE для второй гипотезы: {h2_ice}')\n"
   ]
  },
  {
   "cell_type": "code",
   "execution_count": null,
   "metadata": {},
   "outputs": [],
   "source": [
    "# Гипотеза 3: часть заказов, процесс оплаты которых был слишком долгим, разместили повторно, после исправления бага \n",
    "# 'almo' - заказы клиентов с проблемами оплаты (более медианной продолжительности)\n",
    "# Число повторных заказов 'almo * nocr'\n",
    "almo = impact_df.query('approval_length_minutes > 20.6')['order_id'].nunique()\n",
    "almo_cr = almo * nocr\n",
    "h3i = impact_score(almo_cr)\n",
    "h3_ice = h3i * h3c * h3e\n",
    "print(f'ICE для третьей гипотезы: {h3_ice}')\n"
   ]
  },
  {
   "cell_type": "code",
   "execution_count": null,
   "metadata": {},
   "outputs": [],
   "source": [
    "# Информация по датасету отмененных заказов (Гипотеза 1) для выявления возможных противоречий\n",
    "quco_info = impact_df.query('order_status in [\"unavailable\", \"canceled\"]')\n",
    "quco_info.info()\n",
    "# видно, что для отмененных заказов отсутствует дата доставки до клиента, но присутствует подтверждение заказа и его оплата"
   ]
  },
  {
   "cell_type": "markdown",
   "metadata": {},
   "source": [
    "<div class=\"alert alert-block alert-info\">Вывод по задаче 4:<br>\n",
    "Приоритетной считаем гипотезу 1, набравшую наибольший ICE. Результат получен вследствие очень низкого retention rate (0.0035), который используется в качестве коэффициента конверсии, из-за чего количество повторных заказов при исправлении процессинга доставки или оплаты будет меньше, чем количество просто неотмененных заказов. <br>\n",
    "Отмененные заказы могут быть более серьезной проблемой, чем кажется. По информации из датасета с отмененными заказами, они сначала подтверждаются и оплачиваются (!), им назначается дата доставки клиенту, а потом они отменяются компанией. За рамками системы остается ответ на вопрос о времени оповещения об отмене и процессе, и времени возврата денег, которые так же болезненны для клиента."
   ]
  },
  {
   "cell_type": "markdown",
   "metadata": {},
   "source": [
    "#### Задача 5. Сформулировать нужные метрики, на которые ваша гипотеза должна повлиять."
   ]
  },
  {
   "cell_type": "markdown",
   "metadata": {},
   "source": [
    "<div class=\"alert alert-block alert-info\">Сформулированные метрики для продакт-менеджера для проведения A/B-теста:<br><br>\n",
    "\n",
    "Целевая -<br><br>\n",
    "    \n",
    "Доля доставленных заказов от числа оплаченных заказов: чувствительная, достоверная, интерпретируемая. Отмененные заказы не доставляются, среднее время доставки - 12 дней. Рост метрики будет однозначным сигналом снижения отмен и его можно увидеть очень быстро.<br><br>\n",
    "\n",
    "Прокси - <br><br>\n",
    "\n",
    "Среднее число заказов на пользователя: чувствительная, достоверная, интерпретируемая. Если среднее время доставки - 12 дней, можно увидеть повторные заказы в течение отчетного месяца.<br><br> \n",
    "\n",
    "ARPU: чувствительная, достоверная, интерпретируемая. Из-за высокой скорости повторных заказов рост ARPU будет виден в течение отчетного месяца.<br><br>\n",
    "\n",
    "Guardrail (барьерная) -<br><br>\n",
    "\n",
    "Доля отмененных заказов (она же доля недоставленных): чувствительная, достоверная, интерпретируемая. Среднее время отмены равно среднему времени доставки, рост метрики в течение отчетного месяца будет однозначным сигналом увеличения числа отмен."
   ]
  },
  {
   "cell_type": "markdown",
   "metadata": {},
   "source": [
    "#### Задача 6: Формализовать задачу всего проекта, сформулировать выводы о проделанной работе, внести предожения по улучшению продукта.   "
   ]
  },
  {
   "cell_type": "markdown",
   "metadata": {},
   "source": [
    "<div class=\"alert alert-block alert-info\">Формализация задачи:<br><br>\n",
    "Основная проблема продукта – выручка магазина вышла на плато, необходимо найти и устранить причины стагнации посредством анализа основных метрик, выдвижения гипотез, их приоритизации и влияния на ключевые метрики.<br><br>\n",
    "Выводы по пункту 1:<br><br>\n",
    "Проведен когортный анализ пользователей и рассчитан коэффициент удержания (retention rate). Наблюдается крайне высокий отток клиентов, в продукт возвращается менее 4 человек из тысячи при медианном коэффициенте удержания первого месяца 0.0035. Среднее значение retention rate по всем когортам и периодам 0.0025, что еще хуже. <br><br>\n",
    "Заключение: Необходимо предпринимать меры по возвращению клиентов в продукт.<br><br>\n",
    "Выводы по пункту 2:<br><br>\n",
    "Построен график медианных retention rate по всем когортам и периодам. Коэффициент удержания вышел на плато, но значения крайне малы, не превышают 1%. Формально у продукта наблюдается product/market fit, но при негласном приемлемом среднем уровне retention rate в 20-30% для интернет-магазина, необходимо отвергнуть этот вывод. <br><br>\n",
    "Заключение: product/market fit у продукта отсутствует.<br><br>\n",
    "Предложены 5 гипотез с возможными причинами отсутствия product/market fit: Слабое географическое покрытие доставки; Отмена заказов по любой причине (включая недоступность товаров); Неудобный процессинг оплаты; Опоздание доставок; Долгое время доставки. Приоритизация 3 гипотез: отмены, оплаты и задержки будет проведена в рамках фреймворка ICE в блоке 4. <br><br>\n",
    "Заключение: Необходимо выбрать основные метрики, на которые нужно повлиять для исправления ситуации. Для этого выделены три наиболее вероятные причины низкого product/market fit, для последующей приоритизации одной из них и определения метрик.<br><br>\n",
    "Выводы по пункту 3:<br><br>\n",
    "Для дальнейшего анализа предложены 5 метрик, исходя из доступных данных:<br><br>\n",
    "1) Рост объёма продаж маркетплейса - Revenue (Выручка в месяц).<br>\n",
    "2) Объем аудитории, которой продукт доставляет ценность - MAU (Количество активных пользователей в месяц).<br>\n",
    "3) Заинтересованность новых клиентов в продукте - Количество новых клиентов ежемесячно (NMU).<br>\n",
    "4) Вовлеченность клиента в продолжение использования продукта - Retention rate (Коэффициент удержания).<br>\n",
    "5) Денежное выражение вовлеченности клиента - ARPU (Среднемесячный доход на клиента).<br><br>\n",
    "В итоге все метрики показывают очень похожую динамику, если изучать только графики, метрики можно спутать. После ноября 2017 года рост всех метрик остановился. Динамика ARPU отрицательная (это может быть связано с понижением цен - первым инструментом, к которому прибегают в торговле для удержания и возвращения клиентов). Отсутствуют данные о расходах, невозможно посчитать прибыльность продукта, LTV и сходимость unit-экономики. <br><br>\n",
    "Заключение: низкий retention rate негативно влияет на все основные метрики маркетплейса. Его влияние настолько велико, что динамика метрик идентична, они стагнируют после ноября 2017 года, а среднемесячный доход на клиента падает.<br><br>\n",
    "Выводы по пункту 4:<br><br>\n",
    "Для приоритизации выбраны следующие гипотезы:<br><br>\n",
    "1)\tПроблема в отмене заказов и нужно избавляться от бага в системе процессинга заказов, тогда пользователи перестанут отменять заказы.<br>\n",
    "2)\tПроблема в опоздании доставки, если ее решить, клиенты будут размещать повторные заказы.<br>\n",
    "3)\tПроблема в способе оплаты, если ее решить, то клиенты не будут испытывать трудности при оформлении заказа и размещать повторные.<br><br>\n",
    "По фреймворку ICE наибольший результат набрала гипотеза 1. Правда, успех был обеспечен вследствие очень низкого retention rate (0.0035), который используется в качестве коэффициента конверсии, из-за чего количество повторных заказов при исправлении процессинга доставки или оплаты будет меньше, чем количество просто неотмененных заказов.<br><br>\n",
    "Тем не менее, отмененные заказы могут быть более серьезной проблемой, чем кажется. По информации из датасета с отмененными заказами, они сначала подтверждаются и оплачиваются (!), им назначается дата доставки клиенту, а потом они отменяются компанией. За рамками системы остается ответ на вопрос о времени оповещения об отмене и процессе, и времени возврата денег, которые так же болезненны для клиента.<br><br>\n",
    "Заключение: наиболее высокое число повторных заказов можно получить, избавившись от отмен, которые появляются вследствие багов при процессинге. Эту задачу нужно поставить разработчикам.<br><br>\n",
    "Выводы по пункту 5:<br><br>\n",
    "Исправление процессинга оформления заказа должно повлиять на достоверные, чувствительные и интерпретируемые метрики, непосредственно связанные с отменами:<br><br>\n",
    "Целевая -<br>\n",
    "Доля доставленных заказов от числа оплаченных заказов: чувствительная, достоверная, интерпретируемая. Отмененные заказы не доставляются, среднее время доставки - 12 дней. Рост метрики будет однозначным сигналом снижения отмен и его можно увидеть очень быстро.<br><br>\n",
    "Прокси -<br>\n",
    "Среднее число заказов на пользователя: чувствительная, достоверная, интерпретируемая. Если среднее время доставки - 12 дней, можно увидеть повторные заказы в течение отчетного месяца.<br>\n",
    "ARPU: чувствительная, достоверная, интерпретируемая. Из-за высокой скорости повторных заказов рост ARPU будет виден в течение отчетного месяца.<br><br>\n",
    "Guardrail (барьерная) -<br>\n",
    "Доля отмененных заказов (она же доля недоставленных): чувствительная, достоверная, интерпретируемая. Среднее время отмены равно среднему времени доставки, рост метрики в течение отчетного месяца будет однозначным сигналом увеличения числа отмен.<br><br>\n",
    "Заключение: необходимо сконцентрироваться на меньшем количестве метрик, которые не зависят от внешней среды и имеют высокую скорость и интерпретируемость, и описывают происходящее с отменой или успешным прохождением заказа. Это позволит сократить время на А/В-тестирование и получить достоверные результаты.<br><br>\n",
    "Общие выводы по итогу исследования:<br><br>\n",
    "Данные позволили провести минимально необходимый анализ для формирования гипотез по улучшению продукта. Выявлены метрики и их динамика, приоритизированы гипотезы, среди которых основной выбрана версия сокращения отмены заказов и работы над исправлением процессинга заказов, что позволит в короткой перспективе отслеживать негативные и позитивные изменения в долях доставленных и отмененных заказов, среднем количестве заказов и ARPU. Это позволит влиять на retention rate, который в свою очередь будет влиять на указанные метрики.<br><br>\n",
    "Однако, отсутствие данных по расходам не позволяет провести исследование unit-экономики, поскольку даже при внедрении рекомендованных изменений итоговый результат может принести убытки в случае превышения расходов по привлечению клиента над доходами, полученными с того же клиента.<br><br>\n",
    "Рекомендации по продукту.<br><br>\n",
    "Собранные данные позволяют провести только поверхностный анализ, поэтому необходимо:<br>\n",
    "Увеличить широту собираемой информации (детализация по клиентам – возраст, пол, используемые платформы; все возможные виды расходов, прибыль, способы оплаты, реклама, проведение акций, обратная связь от клиентов, …) и предоставлять для анализа данные по конкурентам для benchmark по обещанному времени доставки и сроках доставки, способах оплаты, широте ассортимента, информационной поддержке, качестве контента (карточек товара), ценах и т.п. <br>\n",
    "После детальных исследований новых данных стоит провести RFM-анализ и проверить сходимость unit-экономики.<br>\n",
    "Провести сбор данных по удовлетворенности клиентов: сроками доставки, способами оплаты, товарами, сервисом, скоростью работы приложения, удобством интерфейса.\n",
    "\n",
    "\n",
    "\n",
    "\n"
   ]
  }
 ],
 "metadata": {
  "kernelspec": {
   "display_name": "Python 3 (ipykernel)",
   "language": "python",
   "name": "python3"
  },
  "language_info": {
   "codemirror_mode": {
    "name": "ipython",
    "version": 3
   },
   "file_extension": ".py",
   "mimetype": "text/x-python",
   "name": "python",
   "nbconvert_exporter": "python",
   "pygments_lexer": "ipython3",
   "version": "3.11.4"
  }
 },
 "nbformat": 4,
 "nbformat_minor": 4
}
